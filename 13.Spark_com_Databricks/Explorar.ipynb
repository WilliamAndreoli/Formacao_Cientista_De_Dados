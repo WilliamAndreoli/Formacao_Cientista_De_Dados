{
 "cells": [
  {
   "cell_type": "code",
   "execution_count": 0,
   "metadata": {
    "application/vnd.databricks.v1+cell": {
     "cellMetadata": {
      "byteLimit": 2048000,
      "rowLimit": 10000
     },
     "inputWidgets": {},
     "nuid": "e97cfde4-549c-4164-93a3-e2296915a7ed",
     "showTitle": false,
     "title": ""
    }
   },
   "outputs": [],
   "source": [
    "#Estudo do Spark com Databricks\n",
    "from pyspark.sql import SparkSession"
   ]
  },
  {
   "cell_type": "code",
   "execution_count": 0,
   "metadata": {
    "application/vnd.databricks.v1+cell": {
     "cellMetadata": {
      "byteLimit": 2048000,
      "rowLimit": 10000
     },
     "inputWidgets": {},
     "nuid": "6f23311b-2a96-4236-ac1c-f27e7dd031e2",
     "showTitle": false,
     "title": ""
    }
   },
   "outputs": [
    {
     "output_type": "stream",
     "name": "stdout",
     "output_type": "stream",
     "text": [
      "+-------+---------+-----------+---------------+----+-----+---------+-----------+-------+-----------+---+\n|Consumo|Cilindros|Cilindradas|RelEixoTraseiro|Peso|Tempo|TipoMotor|Transmissao|Marchas|Carburadors| HP|\n+-------+---------+-----------+---------------+----+-----+---------+-----------+-------+-----------+---+\n|     21|        6|        160|             39| 262| 1646|        0|          1|      4|          4|110|\n|     21|        6|        160|             39|2875| 1702|        0|          1|      4|          4|110|\n|    228|        4|        108|            385| 232| 1861|        1|          1|      4|          1| 93|\n|    214|        6|        258|            308|3215| 1944|        1|          0|      3|          1|110|\n|    187|        8|        360|            315| 344| 1702|        0|          0|      3|          2|175|\n+-------+---------+-----------+---------------+----+-----+---------+-----------+-------+-----------+---+\nonly showing top 5 rows\n\n"
     ]
    }
   ],
   "source": [
    "#inferSchema usado para que o próprio Python faça a inferência dos tipos das colunas\n",
    "carros = spark.read.csv(\"/FileStore/tables/Carros.csv\", header=True, sep=';', inferSchema=True)\n",
    "carros.show(5)"
   ]
  },
  {
   "cell_type": "code",
   "execution_count": 0,
   "metadata": {
    "application/vnd.databricks.v1+cell": {
     "cellMetadata": {
      "byteLimit": 2048000,
      "rowLimit": 10000
     },
     "inputWidgets": {},
     "nuid": "f0b7f86d-a4ad-4f6d-8aed-016a81e9357e",
     "showTitle": false,
     "title": ""
    }
   },
   "outputs": [
    {
     "output_type": "stream",
     "name": "stdout",
     "output_type": "stream",
     "text": [
      "Out[5]: StructType([StructField('Consumo', IntegerType(), True), StructField('Cilindros', IntegerType(), True), StructField('Cilindradas', IntegerType(), True), StructField('RelEixoTraseiro', IntegerType(), True), StructField('Peso', IntegerType(), True), StructField('Tempo', IntegerType(), True), StructField('TipoMotor', IntegerType(), True), StructField('Transmissao', IntegerType(), True), StructField('Marchas', IntegerType(), True), StructField('Carburadors', IntegerType(), True), StructField('HP', IntegerType(), True)])"
     ]
    }
   ],
   "source": [
    "carros.schema"
   ]
  },
  {
   "cell_type": "code",
   "execution_count": 0,
   "metadata": {
    "application/vnd.databricks.v1+cell": {
     "cellMetadata": {
      "byteLimit": 2048000,
      "rowLimit": 10000
     },
     "inputWidgets": {},
     "nuid": "89b30e44-0e5f-4cb8-8213-66cd9afccfdd",
     "showTitle": false,
     "title": ""
    }
   },
   "outputs": [
    {
     "output_type": "stream",
     "name": "stdout",
     "output_type": "stream",
     "text": [
      "Out[6]: 32"
     ]
    }
   ],
   "source": [
    "carros.count()"
   ]
  },
  {
   "cell_type": "code",
   "execution_count": 0,
   "metadata": {
    "application/vnd.databricks.v1+cell": {
     "cellMetadata": {
      "byteLimit": 2048000,
      "rowLimit": 10000
     },
     "inputWidgets": {},
     "nuid": "837aee70-8b82-49b1-94a7-91a21f9509dd",
     "showTitle": false,
     "title": ""
    }
   },
   "outputs": [
    {
     "output_type": "stream",
     "name": "stdout",
     "output_type": "stream",
     "text": [
      "Out[7]: ['Consumo',\n 'Cilindros',\n 'Cilindradas',\n 'RelEixoTraseiro',\n 'Peso',\n 'Tempo',\n 'TipoMotor',\n 'Transmissao',\n 'Marchas',\n 'Carburadors',\n 'HP']"
     ]
    }
   ],
   "source": [
    "carros.columns"
   ]
  },
  {
   "cell_type": "code",
   "execution_count": 0,
   "metadata": {
    "application/vnd.databricks.v1+cell": {
     "cellMetadata": {
      "byteLimit": 2048000,
      "rowLimit": 10000
     },
     "inputWidgets": {},
     "nuid": "fbd3539b-0e64-40bc-b938-42bf0a45c17f",
     "showTitle": false,
     "title": ""
    }
   },
   "outputs": [
    {
     "output_type": "stream",
     "name": "stdout",
     "output_type": "stream",
     "text": [
      "+-------+---------+\n|Consumo|Cilindros|\n+-------+---------+\n|     21|        6|\n|     21|        6|\n|    228|        4|\n|    214|        6|\n|    187|        8|\n+-------+---------+\nonly showing top 5 rows\n\n"
     ]
    }
   ],
   "source": [
    "carros.select(\"Consumo\", \"Cilindros\").show(5)"
   ]
  },
  {
   "cell_type": "code",
   "execution_count": 0,
   "metadata": {
    "application/vnd.databricks.v1+cell": {
     "cellMetadata": {
      "byteLimit": 2048000,
      "rowLimit": 10000
     },
     "inputWidgets": {},
     "nuid": "b1b98ec2-f51e-4d12-8c87-2724d1c42097",
     "showTitle": false,
     "title": ""
    }
   },
   "outputs": [
    {
     "output_type": "stream",
     "name": "stdout",
     "output_type": "stream",
     "text": [
      "+-------+---------+\n|Consumo|Cilindros|\n+-------+---------+\n|    187|        8|\n|    143|        8|\n|    164|        8|\n|    173|        8|\n|    152|        8|\n|    104|        8|\n|    104|        8|\n|    147|        8|\n|    155|        8|\n|    152|        8|\n|    133|        8|\n|    192|        8|\n|    158|        8|\n|     15|        8|\n+-------+---------+\n\n"
     ]
    }
   ],
   "source": [
    "from pyspark.sql import functions as Func\n",
    "carros.select(\"Consumo\",\"Cilindros\").where(Func.col(\"Cilindros\") > 6).show()"
   ]
  },
  {
   "cell_type": "code",
   "execution_count": 0,
   "metadata": {
    "application/vnd.databricks.v1+cell": {
     "cellMetadata": {
      "byteLimit": 2048000,
      "rowLimit": 10000
     },
     "inputWidgets": {},
     "nuid": "7dde35ef-04e8-4b76-95fe-ad1757ba44d9",
     "showTitle": false,
     "title": ""
    }
   },
   "outputs": [
    {
     "output_type": "stream",
     "name": "stdout",
     "output_type": "stream",
     "text": [
      "+-------+---------+-----------+---------------+----+-----+---------+-----------+-------+-----------+---+\n|Consumo|Cilindros|Cilindradas|RelEixoTraseiro|Peso|Tempo|TipoMotor|Transmissao|Marchas|Carburadors| HP|\n+-------+---------+-----------+---------------+----+-----+---------+-----------+-------+-----------+---+\n|    304|        4|        757|            493|1615| 1852|        1|          1|      4|          2| 52|\n|    244|        4|       1467|            369| 319|   20|        1|          0|      4|          2| 62|\n|    339|        4|        711|            422|1835|  199|        1|          1|      4|          1| 65|\n|    324|        4|        787|            408|  22| 1947|        1|          1|      4|          1| 66|\n|    273|        4|         79|            408|1935|  189|        1|          1|      4|          1| 66|\n+-------+---------+-----------+---------------+----+-----+---------+-----------+-------+-----------+---+\nonly showing top 5 rows\n\n"
     ]
    }
   ],
   "source": [
    "carros.orderBy(\"HP\").show(5)"
   ]
  },
  {
   "cell_type": "code",
   "execution_count": 0,
   "metadata": {
    "application/vnd.databricks.v1+cell": {
     "cellMetadata": {
      "byteLimit": 2048000,
      "rowLimit": 10000
     },
     "inputWidgets": {},
     "nuid": "05043a0e-0253-43b0-8b90-b8723345e8c9",
     "showTitle": false,
     "title": ""
    }
   },
   "outputs": [
    {
     "output_type": "stream",
     "name": "stdout",
     "output_type": "stream",
     "text": [
      "+-------+---------+-----------+---------------+----+-----+---------+-----------+-------+-----------+---+\n|Consumo|Cilindros|Cilindradas|RelEixoTraseiro|Peso|Tempo|TipoMotor|Transmissao|Marchas|Carburadors| HP|\n+-------+---------+-----------+---------------+----+-----+---------+-----------+-------+-----------+---+\n|     15|        8|        301|            354| 357|  146|        0|          1|      5|          8|335|\n|    158|        8|        351|            422| 317|  145|        0|          1|      5|          4|264|\n|    143|        8|        360|            321| 357| 1584|        0|          0|      3|          4|245|\n|    133|        8|        350|            373| 384| 1541|        0|          0|      3|          4|245|\n|    147|        8|        440|            323|5345| 1742|        0|          0|      3|          4|230|\n+-------+---------+-----------+---------------+----+-----+---------+-----------+-------+-----------+---+\nonly showing top 5 rows\n\n"
     ]
    }
   ],
   "source": [
    "carros.orderBy(Func.col(\"HP\").desc()).show(5)"
   ]
  }
 ],
 "metadata": {
  "application/vnd.databricks.v1+notebook": {
   "dashboards": [],
   "environmentMetadata": null,
   "language": "python",
   "notebookMetadata": {
    "pythonIndentUnit": 4
   },
   "notebookName": "Explorar",
   "widgets": {}
  }
 },
 "nbformat": 4,
 "nbformat_minor": 0
}
